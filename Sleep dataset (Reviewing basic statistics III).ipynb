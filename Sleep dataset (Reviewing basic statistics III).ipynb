{
 "cells": [
  {
   "cell_type": "code",
   "execution_count": 49,
   "metadata": {},
   "outputs": [],
   "source": [
    "# boilerplate cell for stuff that comes out of the box with R, probably\n",
    "# copied from https://github.com/Azure/RNNForTimeSeriesForecasting, because I am new to this stuff\n",
    "import os\n",
    "import warnings\n",
    "import matplotlib.pyplot as plt\n",
    "import numpy as np\n",
    "import pandas as pd\n",
    "import datetime as dt\n",
    "import scipy.stats as stats\n",
    "import statsmodels.stats.api as sms\n",
    "from glob import glob\n",
    "from collections import UserDict\n",
    "from IPython.display import Image, Markdown, display\n",
    "from utils import Capturing\n",
    "%matplotlib inline\n",
    "\n",
    "# some kind soul ported a bunch of default R datasets (and more) into python, bless his soul\n",
    "from pydataset import data as pdsd\n",
    "\n",
    "pd.options.display.float_format = '{:,.2f}'.format\n",
    "np.set_printoptions(precision=2)"
   ]
  },
  {
   "cell_type": "markdown",
   "metadata": {},
   "source": [
    "Original:\n",
    "```R\n",
    "help(sleep)\n",
    "```\n",
    "\n",
    "**Note**\n",
    "There doesn't seem to be an easy way to get it formatted as nicely as it is in R. Oh well."
   ]
  },
  {
   "cell_type": "code",
   "execution_count": 40,
   "metadata": {},
   "outputs": [
    {
     "data": {
      "text/markdown": [
       "sleep\n",
       "\n",
       "PyDataset Documentation (adopted from R Documentation. The displayed examples are in R)\n",
       "\n",
       "## Student's Sleep Data\n",
       "\n",
       "### Description\n",
       "\n",
       "Data which show the effect of two soporific drugs (increase in hours of sleep\n",
       "compared to control) on 10 patients.\n",
       "\n",
       "### Usage\n",
       "\n",
       "    sleep\n",
       "\n",
       "### Format\n",
       "\n",
       "A data frame with 20 observations on 3 variables.\n",
       "\n",
       "[, 1]\n",
       "\n",
       "extra\n",
       "\n",
       "numeric\n",
       "\n",
       "increase in hours of sleep\n",
       "\n",
       "[, 2]\n",
       "\n",
       "group\n",
       "\n",
       "factor\n",
       "\n",
       "drug given\n",
       "\n",
       "[, 3]\n",
       "\n",
       "ID\n",
       "\n",
       "factor\n",
       "\n",
       "patient ID\n",
       "\n",
       "### Details\n",
       "\n",
       "The `group` variable name may be misleading about the data: They represent\n",
       "measurements on 10 persons, not in groups.\n",
       "\n",
       "### Source\n",
       "\n",
       "Cushny, A. R. and Peebles, A. R. (1905) The action of optical isomers: II\n",
       "hyoscines. _The Journal of Physiology_ **32**, 501–510.\n",
       "\n",
       "Student (1908) The probable error of the mean. _Biometrika_, **6**, 20.\n",
       "\n",
       "### References\n",
       "\n",
       "Scheffé, Henry (1959) _The Analysis of Variance_. New York, NY: Wiley.\n",
       "\n",
       "### Examples\n",
       "\n",
       "    require(stats)\n",
       "    ## Student's paired t-test\n",
       "    with(sleep,\n",
       "         t.test(extra[group == 1],\n",
       "                extra[group == 2], paired = TRUE))\n",
       "    ## The sleep *prolongations*\n",
       "    sleep1 <- with(sleep, extra[group == 2] - extra[group == 1])\n",
       "    summary(sleep1)\n",
       "    stripchart(sleep1, method = \"stack\", xlab = \"hours\",\n",
       "               main = \"Sleep prolongation (n = 10)\")\n",
       "    boxplot(sleep1, horizontal = TRUE, add = TRUE,\n",
       "            at = .6, pars = list(boxwex = 0.5, staplewex = 0.25))\n",
       "\n"
      ],
      "text/plain": [
       "<IPython.core.display.Markdown object>"
      ]
     },
     "metadata": {},
     "output_type": "display_data"
    }
   ],
   "source": [
    "with Capturing() as output:\n",
    "    pdsd(\"sleep\",show_doc=True)\n",
    "display(Markdown(\"\\n\".join(output)))"
   ]
  },
  {
   "cell_type": "markdown",
   "metadata": {},
   "source": [
    "Original:\n",
    "```R\n",
    "sleep\n",
    "```"
   ]
  },
  {
   "cell_type": "code",
   "execution_count": 41,
   "metadata": {},
   "outputs": [
    {
     "data": {
      "text/html": [
       "<div>\n",
       "<table border=\"1\" class=\"dataframe\">\n",
       "  <thead>\n",
       "    <tr style=\"text-align: right;\">\n",
       "      <th></th>\n",
       "      <th>extra</th>\n",
       "      <th>group</th>\n",
       "      <th>ID</th>\n",
       "    </tr>\n",
       "  </thead>\n",
       "  <tbody>\n",
       "    <tr>\n",
       "      <th>1</th>\n",
       "      <td>0.70</td>\n",
       "      <td>1</td>\n",
       "      <td>1</td>\n",
       "    </tr>\n",
       "    <tr>\n",
       "      <th>2</th>\n",
       "      <td>-1.60</td>\n",
       "      <td>1</td>\n",
       "      <td>2</td>\n",
       "    </tr>\n",
       "    <tr>\n",
       "      <th>3</th>\n",
       "      <td>-0.20</td>\n",
       "      <td>1</td>\n",
       "      <td>3</td>\n",
       "    </tr>\n",
       "    <tr>\n",
       "      <th>4</th>\n",
       "      <td>-1.20</td>\n",
       "      <td>1</td>\n",
       "      <td>4</td>\n",
       "    </tr>\n",
       "    <tr>\n",
       "      <th>5</th>\n",
       "      <td>-0.10</td>\n",
       "      <td>1</td>\n",
       "      <td>5</td>\n",
       "    </tr>\n",
       "    <tr>\n",
       "      <th>6</th>\n",
       "      <td>3.40</td>\n",
       "      <td>1</td>\n",
       "      <td>6</td>\n",
       "    </tr>\n",
       "    <tr>\n",
       "      <th>7</th>\n",
       "      <td>3.70</td>\n",
       "      <td>1</td>\n",
       "      <td>7</td>\n",
       "    </tr>\n",
       "    <tr>\n",
       "      <th>8</th>\n",
       "      <td>0.80</td>\n",
       "      <td>1</td>\n",
       "      <td>8</td>\n",
       "    </tr>\n",
       "    <tr>\n",
       "      <th>9</th>\n",
       "      <td>0.00</td>\n",
       "      <td>1</td>\n",
       "      <td>9</td>\n",
       "    </tr>\n",
       "    <tr>\n",
       "      <th>10</th>\n",
       "      <td>2.00</td>\n",
       "      <td>1</td>\n",
       "      <td>10</td>\n",
       "    </tr>\n",
       "    <tr>\n",
       "      <th>11</th>\n",
       "      <td>1.90</td>\n",
       "      <td>2</td>\n",
       "      <td>1</td>\n",
       "    </tr>\n",
       "    <tr>\n",
       "      <th>12</th>\n",
       "      <td>0.80</td>\n",
       "      <td>2</td>\n",
       "      <td>2</td>\n",
       "    </tr>\n",
       "    <tr>\n",
       "      <th>13</th>\n",
       "      <td>1.10</td>\n",
       "      <td>2</td>\n",
       "      <td>3</td>\n",
       "    </tr>\n",
       "    <tr>\n",
       "      <th>14</th>\n",
       "      <td>0.10</td>\n",
       "      <td>2</td>\n",
       "      <td>4</td>\n",
       "    </tr>\n",
       "    <tr>\n",
       "      <th>15</th>\n",
       "      <td>-0.10</td>\n",
       "      <td>2</td>\n",
       "      <td>5</td>\n",
       "    </tr>\n",
       "    <tr>\n",
       "      <th>16</th>\n",
       "      <td>4.40</td>\n",
       "      <td>2</td>\n",
       "      <td>6</td>\n",
       "    </tr>\n",
       "    <tr>\n",
       "      <th>17</th>\n",
       "      <td>5.50</td>\n",
       "      <td>2</td>\n",
       "      <td>7</td>\n",
       "    </tr>\n",
       "    <tr>\n",
       "      <th>18</th>\n",
       "      <td>1.60</td>\n",
       "      <td>2</td>\n",
       "      <td>8</td>\n",
       "    </tr>\n",
       "    <tr>\n",
       "      <th>19</th>\n",
       "      <td>4.60</td>\n",
       "      <td>2</td>\n",
       "      <td>9</td>\n",
       "    </tr>\n",
       "    <tr>\n",
       "      <th>20</th>\n",
       "      <td>3.40</td>\n",
       "      <td>2</td>\n",
       "      <td>10</td>\n",
       "    </tr>\n",
       "  </tbody>\n",
       "</table>\n",
       "</div>"
      ],
      "text/plain": [
       "    extra  group  ID\n",
       "1    0.70      1   1\n",
       "2   -1.60      1   2\n",
       "3   -0.20      1   3\n",
       "4   -1.20      1   4\n",
       "5   -0.10      1   5\n",
       "6    3.40      1   6\n",
       "7    3.70      1   7\n",
       "8    0.80      1   8\n",
       "9    0.00      1   9\n",
       "10   2.00      1  10\n",
       "11   1.90      2   1\n",
       "12   0.80      2   2\n",
       "13   1.10      2   3\n",
       "14   0.10      2   4\n",
       "15  -0.10      2   5\n",
       "16   4.40      2   6\n",
       "17   5.50      2   7\n",
       "18   1.60      2   8\n",
       "19   4.60      2   9\n",
       "20   3.40      2  10"
      ]
     },
     "execution_count": 41,
     "metadata": {},
     "output_type": "execute_result"
    }
   ],
   "source": [
    "sleep = pdsd(\"sleep\")\n",
    "sleep"
   ]
  },
  {
   "cell_type": "markdown",
   "metadata": {},
   "source": [
    "Original:\n",
    "```R\n",
    "plot(extra~group, data=sleep, main = \"Extra Sleep in Gossett Data by Group\")\n",
    "```"
   ]
  },
  {
   "cell_type": "code",
   "execution_count": 42,
   "metadata": {
    "scrolled": true
   },
   "outputs": [
    {
     "data": {
      "text/plain": [
       "<matplotlib.axes._subplots.AxesSubplot at 0x7fcf41cefbe0>"
      ]
     },
     "execution_count": 42,
     "metadata": {},
     "output_type": "execute_result"
    },
    {
     "data": {
      "image/png": "[encoded data removed]",
      "text/plain": [
       "<matplotlib.figure.Figure at 0x7fcf41cef748>"
      ]
     },
     "metadata": {
      "needs_background": "light"
     },
     "output_type": "display_data"
    }
   ],
   "source": [
    "sleep.boxplot(column=\"extra\",by=\"group\")"
   ]
  },
  {
   "cell_type": "markdown",
   "metadata": {},
   "source": [
    "Original:\n",
    "```R\n",
    "attach(sleep)\n",
    "extra.1=extra[group==1]\n",
    "extra.2=extra[group==2]\n",
    "t.test(extra.1, extra.2, paired=TRUE, alternative=\"two.sided\")\n",
    "```\n",
    "\n",
    "Original output:\n",
    "```\n",
    "data:  extra.1 and extra.2\n",
    "t = -4.0621, df = 9, p-value = 0.002833\n",
    "alternative hypothesis: true difference in means is not equal to 0\n",
    "95 percent confidence interval:\n",
    " -2.4598858 -0.7001142\n",
    "sample estimates:\n",
    "mean of the differences \n",
    "                  -1.58 \n",
    "```"
   ]
  },
  {
   "cell_type": "code",
   "execution_count": 69,
   "metadata": {},
   "outputs": [
    {
     "data": {
      "text/plain": [
       "Ttest_relResult(statistic=-4.062127683382037, pvalue=0.00283289019738427)"
      ]
     },
     "execution_count": 69,
     "metadata": {},
     "output_type": "execute_result"
    }
   ],
   "source": [
    "# calculation of t-statistic and p-value\n",
    "extras = pd.DataFrame(np.array([sleep[sleep.group==1]['extra'],sleep[sleep.group==2]['extra']]).T, columns=['extra1','extra2'])\n",
    "stats.ttest_rel(extras['extra1'],extras['extra2'])"
   ]
  },
  {
   "cell_type": "code",
   "execution_count": 70,
   "metadata": {},
   "outputs": [
    {
     "data": {
      "text/plain": [
       "-1.58"
      ]
     },
     "execution_count": 70,
     "metadata": {},
     "output_type": "execute_result"
    }
   ],
   "source": [
    "# calculation of mean of diffs\n",
    "extras['diffs'] = extras['extra1'] - extras['extra2']\n",
    "extras['diffs'].mean()"
   ]
  },
  {
   "cell_type": "code",
   "execution_count": 79,
   "metadata": {},
   "outputs": [
    {
     "data": {
      "text/plain": [
       "(-2.4598857632547286, -0.7001142367452713)"
      ]
     },
     "execution_count": 79,
     "metadata": {},
     "output_type": "execute_result"
    }
   ],
   "source": [
    "# calculation of confidence interval with confidence level 95% for diffsm\n",
    "sms.DescrStatsW(extras['diffs']).tconfint_mean(alpha=0.05)"
   ]
  },
  {
   "cell_type": "markdown",
   "metadata": {},
   "source": [
    "Original:\n",
    "```R\n",
    "qqnorm(diffs, main= \"Normal Probability Plot\")\n",
    "qqline(diffs)\n",
    "```"
   ]
  },
  {
   "cell_type": "code",
   "execution_count": 74,
   "metadata": {},
   "outputs": [
    {
     "data": {
      "image/png": "[encoded data removed]",
      "text/plain": [
       "<matplotlib.figure.Figure at 0x7fcf42283fd0>"
      ]
     },
     "metadata": {
      "needs_background": "light"
     },
     "output_type": "display_data"
    }
   ],
   "source": [
    "stats.probplot(extras['diffs'],plot=plt)\n",
    "plt.show()"
   ]
  },
  {
   "cell_type": "markdown",
   "metadata": {},
   "source": [
    "#### Comment\n",
    "It's crazy how much R does for you behind the scenes as compared to Python. Look at how much I had to do to duplicate the results of `t.test(extra.1, extra.2, paired=TRUE, alternative=\"two.sided\")`. Wonder what the tradeoff is?\n",
    "\n",
    "#### TODO\n",
    "There's some other stuff in the pdf I haven't ported. May look at it later."
   ]
  },
  {
   "cell_type": "code",
   "execution_count": null,
   "metadata": {},
   "outputs": [],
   "source": []
  }
 ],
 "metadata": {
  "kernelspec": {
   "display_name": "Python 3",
   "language": "python",
   "name": "python3"
  },
  "language_info": {
   "codemirror_mode": {
    "name": "ipython",
    "version": 3
   },
   "file_extension": ".py",
   "mimetype": "text/x-python",
   "name": "python",
   "nbconvert_exporter": "python",
   "pygments_lexer": "ipython3",
   "version": "3.6.5"
  }
 },
 "nbformat": 4,
 "nbformat_minor": 2
}
