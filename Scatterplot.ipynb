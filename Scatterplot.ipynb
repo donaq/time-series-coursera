{
 "cells": [
  {
   "cell_type": "code",
   "execution_count": 10,
   "metadata": {},
   "outputs": [],
   "source": [
    "# boilerplate cell for stuff that comes out of the box with R, probably\n",
    "# copied from https://github.com/Azure/RNNForTimeSeriesForecasting, because I am new to this stuff\n",
    "import os\n",
    "import warnings\n",
    "import matplotlib.pyplot as plt\n",
    "import numpy as np\n",
    "import pandas as pd\n",
    "import datetime as dt\n",
    "from math import sqrt\n",
    "from glob import glob\n",
    "from collections import UserDict\n",
    "from IPython.display import Image\n",
    "%matplotlib inline\n",
    "\n",
    "# some kind soul ported a bunch of default R datasets (and more) into python, bless his soul\n",
    "from pydataset import data as pdsdata\n",
    "\n",
    "pd.options.display.float_format = '{:,.2f}'.format\n",
    "np.set_printoptions(precision=2)\n"
   ]
  },
  {
   "cell_type": "markdown",
   "metadata": {},
   "source": [
    "Original:\n",
    "\n",
    "```r\n",
    "set.seed(2016)\n",
    "Test_1_scores=round(rnorm(50, 78, 10))\n",
    "Test_2_scores=round(rnorm(50, 78, 14))\n",
    "Test_1_scores\n",
    "Test_2_scores\n",
    "```"
   ]
  },
  {
   "cell_type": "code",
   "execution_count": 14,
   "metadata": {},
   "outputs": [],
   "source": [
    "np.random.seed(2016)\n",
    "scores = pd.DataFrame({\"test1\":np.random.normal(78,sqrt(10),50),\"test2\":np.random.normal(78,sqrt(14),50)})\n"
   ]
  },
  {
   "cell_type": "code",
   "execution_count": 15,
   "metadata": {},
   "outputs": [
    {
     "data": {
      "text/plain": [
       "0    78.93\n",
       "1    79.61\n",
       "2    80.23\n",
       "3    80.61\n",
       "4    84.75\n",
       "5    76.20\n",
       "6    80.33\n",
       "7    74.93\n",
       "8    80.20\n",
       "9    82.34\n",
       "10   73.25\n",
       "11   79.48\n",
       "12   82.69\n",
       "13   83.47\n",
       "14   75.46\n",
       "15   71.25\n",
       "16   76.42\n",
       "17   77.83\n",
       "18   76.73\n",
       "19   76.69\n",
       "20   73.76\n",
       "21   74.03\n",
       "22   75.47\n",
       "23   73.47\n",
       "24   76.58\n",
       "25   81.71\n",
       "26   80.86\n",
       "27   80.79\n",
       "28   82.46\n",
       "29   72.13\n",
       "30   76.81\n",
       "31   77.98\n",
       "32   74.64\n",
       "33   82.27\n",
       "34   80.31\n",
       "35   73.27\n",
       "36   77.18\n",
       "37   74.28\n",
       "38   80.41\n",
       "39   77.37\n",
       "40   82.17\n",
       "41   74.84\n",
       "42   76.42\n",
       "43   77.13\n",
       "44   75.80\n",
       "45   79.41\n",
       "46   76.83\n",
       "47   77.73\n",
       "48   80.22\n",
       "49   80.27\n",
       "Name: test1, dtype: float64"
      ]
     },
     "execution_count": 15,
     "metadata": {},
     "output_type": "execute_result"
    }
   ],
   "source": [
    "scores['test1']"
   ]
  },
  {
   "cell_type": "code",
   "execution_count": 16,
   "metadata": {},
   "outputs": [
    {
     "data": {
      "text/plain": [
       "0    75.39\n",
       "1    78.24\n",
       "2    82.94\n",
       "3    83.33\n",
       "4    73.04\n",
       "5    78.90\n",
       "6    80.14\n",
       "7    77.04\n",
       "8    82.21\n",
       "9    79.82\n",
       "10   80.12\n",
       "11   75.38\n",
       "12   74.27\n",
       "13   75.60\n",
       "14   76.19\n",
       "15   81.45\n",
       "16   77.75\n",
       "17   71.76\n",
       "18   74.94\n",
       "19   79.88\n",
       "20   77.93\n",
       "21   77.30\n",
       "22   79.65\n",
       "23   75.48\n",
       "24   74.97\n",
       "25   74.73\n",
       "26   77.33\n",
       "27   87.08\n",
       "28   76.23\n",
       "29   76.02\n",
       "30   76.25\n",
       "31   76.70\n",
       "32   77.75\n",
       "33   74.98\n",
       "34   82.28\n",
       "35   78.51\n",
       "36   71.87\n",
       "37   72.91\n",
       "38   77.45\n",
       "39   82.56\n",
       "40   80.62\n",
       "41   80.81\n",
       "42   73.59\n",
       "43   70.59\n",
       "44   77.52\n",
       "45   76.85\n",
       "46   81.42\n",
       "47   81.10\n",
       "48   79.92\n",
       "49   75.62\n",
       "Name: test2, dtype: float64"
      ]
     },
     "execution_count": 16,
     "metadata": {},
     "output_type": "execute_result"
    }
   ],
   "source": [
    "scores['test2']"
   ]
  },
  {
   "cell_type": "markdown",
   "metadata": {},
   "source": [
    "Original:\n",
    "\n",
    "```r\n",
    "plot(Test_2_scores~Test_1_scores, main='Test scores for two exams (50 students)', xlab='Test_1_scores', ylab='Test 2 scores', col='blue')\n",
    "```"
   ]
  },
  {
   "cell_type": "code",
   "execution_count": 24,
   "metadata": {},
   "outputs": [
    {
     "data": {
      "text/plain": [
       "<matplotlib.axes._subplots.AxesSubplot at 0x7fc726d27390>"
      ]
     },
     "execution_count": 24,
     "metadata": {},
     "output_type": "execute_result"
    },
    {
     "data": {
      "image/png": "[encoded data removed]",
      "text/plain": [
       "<matplotlib.figure.Figure at 0x7fc726f849e8>"
      ]
     },
     "metadata": {
      "needs_background": "light"
     },
     "output_type": "display_data"
    }
   ],
   "source": [
    "scores.rename(columns={\"test1\":\"Test 1 scores\",\"test2\":\"Test 2 scores\"}).plot.scatter(x=\"Test 1 scores\",y=\"Test 2 scores\",title=\"Test scores for two exams (50 students)\",color=\"red\")"
   ]
  },
  {
   "cell_type": "code",
   "execution_count": null,
   "metadata": {},
   "outputs": [],
   "source": []
  }
 ],
 "metadata": {
  "kernelspec": {
   "display_name": "Python 3",
   "language": "python",
   "name": "python3"
  },
  "language_info": {
   "codemirror_mode": {
    "name": "ipython",
    "version": 3
   },
   "file_extension": ".py",
   "mimetype": "text/x-python",
   "name": "python",
   "nbconvert_exporter": "python",
   "pygments_lexer": "ipython3",
   "version": "3.6.5"
  }
 },
 "nbformat": 4,
 "nbformat_minor": 2
}
