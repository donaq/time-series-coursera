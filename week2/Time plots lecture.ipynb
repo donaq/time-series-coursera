{
 "cells": [
  {
   "cell_type": "code",
   "execution_count": 1,
   "metadata": {},
   "outputs": [],
   "source": [
    "# boilerplate cell for stuff that comes out of the box with R, probably\n",
    "# copied from https://github.com/Azure/RNNForTimeSeriesForecasting, because I am new to this stuff\n",
    "import os\n",
    "import warnings\n",
    "import matplotlib.pyplot as plt\n",
    "import numpy as np\n",
    "import pandas as pd\n",
    "import datetime as dt\n",
    "import scipy.stats as stats\n",
    "import statsmodels.stats.api as sms\n",
    "from glob import glob\n",
    "from collections import UserDict\n",
    "from IPython.display import Image, Markdown, display\n",
    "from utils import Capturing\n",
    "%matplotlib inline\n",
    "\n",
    "# some kind soul ported a bunch of default R datasets (and more) into python, bless his soul\n",
    "from pydataset import data as pdsd\n",
    "\n",
    "pd.options.display.float_format = '{:,.2f}'.format\n",
    "np.set_printoptions(precision=2)"
   ]
  },
  {
   "cell_type": "markdown",
   "metadata": {},
   "source": [
    "Original:\n",
    "```R\n",
    "require(asta)\n",
    "help(jj)\n",
    "```"
   ]
  },
  {
   "cell_type": "code",
   "execution_count": 6,
   "metadata": {},
   "outputs": [
    {
     "data": {
      "text/markdown": [
       "JohnsonJohnson\n",
       "\n",
       "PyDataset Documentation (adopted from R Documentation. The displayed examples are in R)\n",
       "\n",
       "## Quarterly Earnings per Johnson & Johnson Share\n",
       "\n",
       "### Description\n",
       "\n",
       "Quarterly earnings (dollars) per Johnson & Johnson share 1960–80.\n",
       "\n",
       "### Usage\n",
       "\n",
       "    JohnsonJohnson\n",
       "\n",
       "### Format\n",
       "\n",
       "A quarterly time series\n",
       "\n",
       "### Source\n",
       "\n",
       "Shumway, R. H. and Stoffer, D. S. (2000) _Time Series Analysis and its\n",
       "Applications_. Second Edition. Springer. Example 1.1.\n",
       "\n",
       "### Examples\n",
       "\n",
       "    require(stats); require(graphics)\n",
       "    JJ <- log10(JohnsonJohnson)\n",
       "    plot(JJ)\n",
       "    ## This example gives a possible-non-convergence warning on some\n",
       "    ## platforms, but does seem to converge on x86 Linux and Windows.\n",
       "    (fit <- StructTS(JJ, type = \"BSM\"))\n",
       "    tsdiag(fit)\n",
       "    sm <- tsSmooth(fit)\n",
       "    plot(cbind(JJ, sm[, 1], sm[, 3]-0.5), plot.type = \"single\",\n",
       "         col = c(\"black\", \"green\", \"blue\"))\n",
       "    abline(h = -0.5, col = \"grey60\")\n",
       "    monthplot(fit)\n",
       "\n"
      ],
      "text/plain": [
       "<IPython.core.display.Markdown object>"
      ]
     },
     "metadata": {},
     "output_type": "display_data"
    }
   ],
   "source": [
    "with Capturing() as output:\n",
    "    pdsd(\"JohnsonJohnson\", show_doc=True)\n",
    "display(Markdown(\"\\n\".join(output)))"
   ]
  },
  {
   "cell_type": "code",
   "execution_count": 23,
   "metadata": {},
   "outputs": [
    {
     "data": {
      "text/html": [
       "<div>\n",
       "<table border=\"1\" class=\"dataframe\">\n",
       "  <thead>\n",
       "    <tr style=\"text-align: right;\">\n",
       "      <th></th>\n",
       "      <th>time</th>\n",
       "      <th>JohnsonJohnson</th>\n",
       "    </tr>\n",
       "  </thead>\n",
       "  <tbody>\n",
       "    <tr>\n",
       "      <th>1</th>\n",
       "      <td>1,960.00</td>\n",
       "      <td>0.71</td>\n",
       "    </tr>\n",
       "    <tr>\n",
       "      <th>2</th>\n",
       "      <td>1,960.25</td>\n",
       "      <td>0.63</td>\n",
       "    </tr>\n",
       "    <tr>\n",
       "      <th>3</th>\n",
       "      <td>1,960.50</td>\n",
       "      <td>0.85</td>\n",
       "    </tr>\n",
       "    <tr>\n",
       "      <th>4</th>\n",
       "      <td>1,960.75</td>\n",
       "      <td>0.44</td>\n",
       "    </tr>\n",
       "    <tr>\n",
       "      <th>5</th>\n",
       "      <td>1,961.00</td>\n",
       "      <td>0.61</td>\n",
       "    </tr>\n",
       "  </tbody>\n",
       "</table>\n",
       "</div>"
      ],
      "text/plain": [
       "      time  JohnsonJohnson\n",
       "1 1,960.00            0.71\n",
       "2 1,960.25            0.63\n",
       "3 1,960.50            0.85\n",
       "4 1,960.75            0.44\n",
       "5 1,961.00            0.61"
      ]
     },
     "execution_count": 23,
     "metadata": {},
     "output_type": "execute_result"
    }
   ],
   "source": [
    "jj = pdsd(\"JohnsonJohnson\")\n",
    "jj.head()"
   ]
  },
  {
   "cell_type": "markdown",
   "metadata": {},
   "source": [
    "Original:\n",
    "```R\n",
    "plot(jj,type='o',main='Johnson&Johnson quarterly earnings per share', ylab='Earnings',xlab='Years')\n",
    "```"
   ]
  },
  {
   "cell_type": "code",
   "execution_count": 22,
   "metadata": {},
   "outputs": [
    {
     "data": {
      "text/plain": [
       "<matplotlib.axes._subplots.AxesSubplot at 0x7ff864772860>"
      ]
     },
     "execution_count": 22,
     "metadata": {},
     "output_type": "execute_result"
    },
    {
     "data": {
      "image/png": "[encoded data removed]",
      "text/plain": [
       "<matplotlib.figure.Figure at 0x7ff8647b1ba8>"
      ]
     },
     "metadata": {
      "needs_background": "light"
     },
     "output_type": "display_data"
    }
   ],
   "source": [
    "jj.rename(columns={\"time\":\"Years\",\"JohnsonJohnson\":\"Earnings\"}).plot(x=\"Years\",y=\"Earnings\",title=\"Johnson&Johnson quarterly earnings per share\",style=\".-\",figsize=(10,6))"
   ]
  },
  {
   "cell_type": "markdown",
   "metadata": {},
   "source": [
    "**Note** not going to port \"flu\" and \"globaltemp\" since these datasets aren't readily available and there's nothing new in terms of plotting or manipulation to learn here."
   ]
  },
  {
   "cell_type": "code",
   "execution_count": null,
   "metadata": {},
   "outputs": [],
   "source": []
  }
 ],
 "metadata": {
  "kernelspec": {
   "display_name": "Python 3",
   "language": "python",
   "name": "python3"
  },
  "language_info": {
   "codemirror_mode": {
    "name": "ipython",
    "version": 3
   },
   "file_extension": ".py",
   "mimetype": "text/x-python",
   "name": "python",
   "nbconvert_exporter": "python",
   "pygments_lexer": "ipython3",
   "version": "3.6.5"
  }
 },
 "nbformat": 4,
 "nbformat_minor": 2
}
