{
 "cells": [
  {
   "cell_type": "code",
   "execution_count": 3,
   "metadata": {},
   "outputs": [],
   "source": [
    "# boilerplate cell for stuff that comes out of the box with R, probably\n",
    "# copied from https://github.com/Azure/RNNForTimeSeriesForecasting, because I am new to this stuff\n",
    "import os\n",
    "import warnings\n",
    "import matplotlib.pyplot as plt\n",
    "import numpy as np\n",
    "import pandas as pd\n",
    "import datetime as dt\n",
    "import scipy.stats as stats\n",
    "import statsmodels.stats.api as sms\n",
    "import statsmodels.tsa.stattools as sts\n",
    "from statsmodels.tsa.arima_process import arma_generate_sample as arimasim\n",
    "from statsmodels.tsa.ar_model import AR, ARResults\n",
    "from glob import glob\n",
    "from collections import UserDict\n",
    "from IPython.display import Image, Markdown, display\n",
    "from utils import Capturing, pcorr\n",
    "%matplotlib inline\n",
    "\n",
    "# some kind soul ported a bunch of default R datasets (and more) into python, bless his soul\n",
    "from pydataset import data as pdsd\n",
    "\n",
    "pd.options.display.float_format = '{:,.4f}'.format\n",
    "np.set_printoptions(precision=4)"
   ]
  },
  {
   "cell_type": "markdown",
   "metadata": {},
   "source": [
    "We export the `bodyfat` data as csv from `library(isdals)` in R."
   ]
  },
  {
   "cell_type": "code",
   "execution_count": 6,
   "metadata": {},
   "outputs": [
    {
     "data": {
      "text/html": [
       "<div>\n",
       "<table border=\"1\" class=\"dataframe\">\n",
       "  <thead>\n",
       "    <tr style=\"text-align: right;\">\n",
       "      <th></th>\n",
       "      <th>Fat</th>\n",
       "      <th>Triceps</th>\n",
       "      <th>Thigh</th>\n",
       "      <th>Midarm</th>\n",
       "    </tr>\n",
       "  </thead>\n",
       "  <tbody>\n",
       "    <tr>\n",
       "      <th>0</th>\n",
       "      <td>11.9000</td>\n",
       "      <td>19.5000</td>\n",
       "      <td>43.1000</td>\n",
       "      <td>29.1000</td>\n",
       "    </tr>\n",
       "    <tr>\n",
       "      <th>1</th>\n",
       "      <td>22.8000</td>\n",
       "      <td>24.7000</td>\n",
       "      <td>49.8000</td>\n",
       "      <td>28.2000</td>\n",
       "    </tr>\n",
       "    <tr>\n",
       "      <th>2</th>\n",
       "      <td>18.7000</td>\n",
       "      <td>30.7000</td>\n",
       "      <td>51.9000</td>\n",
       "      <td>37.0000</td>\n",
       "    </tr>\n",
       "    <tr>\n",
       "      <th>3</th>\n",
       "      <td>20.1000</td>\n",
       "      <td>29.8000</td>\n",
       "      <td>54.3000</td>\n",
       "      <td>31.1000</td>\n",
       "    </tr>\n",
       "    <tr>\n",
       "      <th>4</th>\n",
       "      <td>12.9000</td>\n",
       "      <td>19.1000</td>\n",
       "      <td>42.2000</td>\n",
       "      <td>30.9000</td>\n",
       "    </tr>\n",
       "    <tr>\n",
       "      <th>5</th>\n",
       "      <td>21.7000</td>\n",
       "      <td>25.6000</td>\n",
       "      <td>53.9000</td>\n",
       "      <td>23.7000</td>\n",
       "    </tr>\n",
       "    <tr>\n",
       "      <th>6</th>\n",
       "      <td>27.1000</td>\n",
       "      <td>31.4000</td>\n",
       "      <td>58.5000</td>\n",
       "      <td>27.6000</td>\n",
       "    </tr>\n",
       "    <tr>\n",
       "      <th>7</th>\n",
       "      <td>25.4000</td>\n",
       "      <td>27.9000</td>\n",
       "      <td>52.1000</td>\n",
       "      <td>30.6000</td>\n",
       "    </tr>\n",
       "    <tr>\n",
       "      <th>8</th>\n",
       "      <td>21.3000</td>\n",
       "      <td>22.1000</td>\n",
       "      <td>49.9000</td>\n",
       "      <td>23.2000</td>\n",
       "    </tr>\n",
       "    <tr>\n",
       "      <th>9</th>\n",
       "      <td>19.3000</td>\n",
       "      <td>25.5000</td>\n",
       "      <td>53.5000</td>\n",
       "      <td>24.8000</td>\n",
       "    </tr>\n",
       "    <tr>\n",
       "      <th>10</th>\n",
       "      <td>25.4000</td>\n",
       "      <td>31.1000</td>\n",
       "      <td>56.6000</td>\n",
       "      <td>30.0000</td>\n",
       "    </tr>\n",
       "    <tr>\n",
       "      <th>11</th>\n",
       "      <td>27.2000</td>\n",
       "      <td>30.4000</td>\n",
       "      <td>56.7000</td>\n",
       "      <td>28.3000</td>\n",
       "    </tr>\n",
       "    <tr>\n",
       "      <th>12</th>\n",
       "      <td>11.7000</td>\n",
       "      <td>18.7000</td>\n",
       "      <td>46.5000</td>\n",
       "      <td>23.0000</td>\n",
       "    </tr>\n",
       "    <tr>\n",
       "      <th>13</th>\n",
       "      <td>17.8000</td>\n",
       "      <td>19.7000</td>\n",
       "      <td>44.2000</td>\n",
       "      <td>28.6000</td>\n",
       "    </tr>\n",
       "    <tr>\n",
       "      <th>14</th>\n",
       "      <td>12.8000</td>\n",
       "      <td>14.6000</td>\n",
       "      <td>42.7000</td>\n",
       "      <td>21.3000</td>\n",
       "    </tr>\n",
       "    <tr>\n",
       "      <th>15</th>\n",
       "      <td>23.9000</td>\n",
       "      <td>29.5000</td>\n",
       "      <td>54.4000</td>\n",
       "      <td>30.1000</td>\n",
       "    </tr>\n",
       "    <tr>\n",
       "      <th>16</th>\n",
       "      <td>22.6000</td>\n",
       "      <td>27.7000</td>\n",
       "      <td>55.3000</td>\n",
       "      <td>25.7000</td>\n",
       "    </tr>\n",
       "    <tr>\n",
       "      <th>17</th>\n",
       "      <td>25.4000</td>\n",
       "      <td>30.2000</td>\n",
       "      <td>58.6000</td>\n",
       "      <td>24.6000</td>\n",
       "    </tr>\n",
       "    <tr>\n",
       "      <th>18</th>\n",
       "      <td>14.8000</td>\n",
       "      <td>22.7000</td>\n",
       "      <td>48.2000</td>\n",
       "      <td>27.1000</td>\n",
       "    </tr>\n",
       "    <tr>\n",
       "      <th>19</th>\n",
       "      <td>21.1000</td>\n",
       "      <td>25.2000</td>\n",
       "      <td>51.0000</td>\n",
       "      <td>27.5000</td>\n",
       "    </tr>\n",
       "  </tbody>\n",
       "</table>\n",
       "</div>"
      ],
      "text/plain": [
       "       Fat  Triceps   Thigh  Midarm\n",
       "0  11.9000  19.5000 43.1000 29.1000\n",
       "1  22.8000  24.7000 49.8000 28.2000\n",
       "2  18.7000  30.7000 51.9000 37.0000\n",
       "3  20.1000  29.8000 54.3000 31.1000\n",
       "4  12.9000  19.1000 42.2000 30.9000\n",
       "5  21.7000  25.6000 53.9000 23.7000\n",
       "6  27.1000  31.4000 58.5000 27.6000\n",
       "7  25.4000  27.9000 52.1000 30.6000\n",
       "8  21.3000  22.1000 49.9000 23.2000\n",
       "9  19.3000  25.5000 53.5000 24.8000\n",
       "10 25.4000  31.1000 56.6000 30.0000\n",
       "11 27.2000  30.4000 56.7000 28.3000\n",
       "12 11.7000  18.7000 46.5000 23.0000\n",
       "13 17.8000  19.7000 44.2000 28.6000\n",
       "14 12.8000  14.6000 42.7000 21.3000\n",
       "15 23.9000  29.5000 54.4000 30.1000\n",
       "16 22.6000  27.7000 55.3000 25.7000\n",
       "17 25.4000  30.2000 58.6000 24.6000\n",
       "18 14.8000  22.7000 48.2000 27.1000\n",
       "19 21.1000  25.2000 51.0000 27.5000"
      ]
     },
     "execution_count": 6,
     "metadata": {},
     "output_type": "execute_result"
    }
   ],
   "source": [
    "bodyfat = pd.read_csv(\"bodyfat.csv\").drop([\"index\"],axis=1)\n",
    "bodyfat"
   ]
  },
  {
   "cell_type": "markdown",
   "metadata": {},
   "source": [
    "Original:\n",
    "```R\n",
    "pairs(cbind(Fat, Triceps, Thigh, Midarm))\n",
    "```"
   ]
  },
  {
   "cell_type": "code",
   "execution_count": 7,
   "metadata": {},
   "outputs": [
    {
     "data": {
      "image/png": "[encoded data removed]",
      "text/plain": [
       "<matplotlib.figure.Figure at 0x7f695e5835f8>"
      ]
     },
     "metadata": {
      "needs_background": "light"
     },
     "output_type": "display_data"
    }
   ],
   "source": [
    "pd.tools.plotting.scatter_matrix(bodyfat)\n",
    "plt.show()"
   ]
  },
  {
   "cell_type": "markdown",
   "metadata": {},
   "source": [
    "Original:\n",
    "```R\n",
    "cor(cbind(Fat, Triceps, Thigh, Midarm))\n",
    "```"
   ]
  },
  {
   "cell_type": "code",
   "execution_count": 8,
   "metadata": {},
   "outputs": [
    {
     "data": {
      "text/html": [
       "<div>\n",
       "<table border=\"1\" class=\"dataframe\">\n",
       "  <thead>\n",
       "    <tr style=\"text-align: right;\">\n",
       "      <th></th>\n",
       "      <th>Fat</th>\n",
       "      <th>Triceps</th>\n",
       "      <th>Thigh</th>\n",
       "      <th>Midarm</th>\n",
       "    </tr>\n",
       "  </thead>\n",
       "  <tbody>\n",
       "    <tr>\n",
       "      <th>Fat</th>\n",
       "      <td>1.0000</td>\n",
       "      <td>0.8433</td>\n",
       "      <td>0.8781</td>\n",
       "      <td>0.1424</td>\n",
       "    </tr>\n",
       "    <tr>\n",
       "      <th>Triceps</th>\n",
       "      <td>0.8433</td>\n",
       "      <td>1.0000</td>\n",
       "      <td>0.9238</td>\n",
       "      <td>0.4578</td>\n",
       "    </tr>\n",
       "    <tr>\n",
       "      <th>Thigh</th>\n",
       "      <td>0.8781</td>\n",
       "      <td>0.9238</td>\n",
       "      <td>1.0000</td>\n",
       "      <td>0.0847</td>\n",
       "    </tr>\n",
       "    <tr>\n",
       "      <th>Midarm</th>\n",
       "      <td>0.1424</td>\n",
       "      <td>0.4578</td>\n",
       "      <td>0.0847</td>\n",
       "      <td>1.0000</td>\n",
       "    </tr>\n",
       "  </tbody>\n",
       "</table>\n",
       "</div>"
      ],
      "text/plain": [
       "           Fat  Triceps  Thigh  Midarm\n",
       "Fat     1.0000   0.8433 0.8781  0.1424\n",
       "Triceps 0.8433   1.0000 0.9238  0.4578\n",
       "Thigh   0.8781   0.9238 1.0000  0.0847\n",
       "Midarm  0.1424   0.4578 0.0847  1.0000"
      ]
     },
     "execution_count": 8,
     "metadata": {},
     "output_type": "execute_result"
    }
   ],
   "source": [
    "bodyfat.corr()"
   ]
  },
  {
   "cell_type": "markdown",
   "metadata": {},
   "source": [
    "Original:\n",
    "```R\n",
    "library(ppcor)\n",
    "pcor(cbind(Fat, Triceps, Thigh))\n",
    "```\n",
    "Result:\n",
    "```\n",
    "$estimate\n",
    "              Fat   Triceps     Thigh\n",
    "Fat     1.0000000 0.1749822 0.4814109\n",
    "Triceps 0.1749822 1.0000000 0.7130120\n",
    "Thigh   0.4814109 0.7130120 1.0000000\n",
    "\n",
    "$p.value\n",
    "               Fat      Triceps        Thigh\n",
    "Fat     0.00000000 0.4736789763 0.0368987227\n",
    "Triceps 0.47367898 0.0000000000 0.0006109801\n",
    "Thigh   0.03689872 0.0006109801 0.0000000000\n",
    "\n",
    "$statistic\n",
    "              Fat   Triceps    Thigh\n",
    "Fat     0.0000000 0.7327755 2.264597\n",
    "Triceps 0.7327755 0.0000000 4.192849\n",
    "Thigh   2.2645969 4.1928494 0.000000\n",
    "\n",
    "$n\n",
    "[1] 20\n",
    "\n",
    "$gp\n",
    "[1] 1\n",
    "\n",
    "$method\n",
    "[1] \"pearson\"\n",
    "```"
   ]
  },
  {
   "cell_type": "code",
   "execution_count": 23,
   "metadata": {},
   "outputs": [
    {
     "data": {
      "text/plain": [
       "array([[1.    , 0.175 , 0.4814],\n",
       "       [0.175 , 1.    , 0.713 ],\n",
       "       [0.4814, 0.713 , 1.    ]])"
      ]
     },
     "execution_count": 23,
     "metadata": {},
     "output_type": "execute_result"
    }
   ],
   "source": [
    "# pcorr function and manipulation of bodyfat data to get similar results as R from https://gist.github.com/fabianp/9396204419c7b638d38f\n",
    "bfarr = bodyfat.drop([\"Midarm\"],axis=1).as_matrix()\n",
    "bfarr_int = np.hstack((np.ones((bfarr.shape[0],1)),bfarr))\n",
    "pcorr(bfarr_int)[1:,1:]"
   ]
  },
  {
   "cell_type": "markdown",
   "metadata": {},
   "source": [
    "Original:\n",
    "```R\n",
    "pcor(cbind(Fat, Triceps, Thigh, Midarm))\n",
    "```"
   ]
  },
  {
   "cell_type": "code",
   "execution_count": 24,
   "metadata": {},
   "outputs": [
    {
     "data": {
      "text/plain": [
       "array([[ 1.    ,  0.3381, -0.2666, -0.3241],\n",
       "       [ 0.3381,  1.    ,  0.9964,  0.9956],\n",
       "       [-0.2666,  0.9964,  1.    , -0.9927],\n",
       "       [-0.3241,  0.9956, -0.9927,  1.    ]])"
      ]
     },
     "execution_count": 24,
     "metadata": {},
     "output_type": "execute_result"
    }
   ],
   "source": [
    "bfarr = bodyfat.as_matrix()\n",
    "bfarr_int = np.hstack((np.ones((bfarr.shape[0],1)),bfarr))\n",
    "pcorr(bfarr_int)[1:,1:]"
   ]
  },
  {
   "cell_type": "code",
   "execution_count": null,
   "metadata": {},
   "outputs": [],
   "source": []
  }
 ],
 "metadata": {
  "kernelspec": {
   "display_name": "Python 3",
   "language": "python",
   "name": "python3"
  },
  "language_info": {
   "codemirror_mode": {
    "name": "ipython",
    "version": 3
   },
   "file_extension": ".py",
   "mimetype": "text/x-python",
   "name": "python",
   "nbconvert_exporter": "python",
   "pygments_lexer": "ipython3",
   "version": "3.6.5"
  }
 },
 "nbformat": 4,
 "nbformat_minor": 2
}
